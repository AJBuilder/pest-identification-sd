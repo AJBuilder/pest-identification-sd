{
 "cells": [
  {
   "cell_type": "markdown",
   "id": "00a93e1f-1871-4bd7-888c-48d5b8078617",
   "metadata": {
    "tags": []
   },
   "source": [
    "# Deploying an Endpoint\n",
    "***\n",
    "This notebook is for creating an endpoint and deploying a specified model (that was already trained).\n",
    "There is also some test predictor code at the end"
   ]
  },
  {
   "cell_type": "code",
   "execution_count": 8,
   "id": "45424abf-fe5c-497d-a390-7afc3d711a01",
   "metadata": {
    "tags": []
   },
   "outputs": [],
   "source": [
    "import sagemaker, boto3\n",
    "from sagemaker import image_uris, model_uris, script_uris\n",
    "from sagemaker.model import Model\n",
    "from sagemaker.predictor import Predictor\n",
    "from sagemaker.utils import name_from_base\n",
    "from sagemaker.session import Session\n",
    "\n",
    "\n",
    "\n",
    "# model_version=\"*\" fetches the latest version of the model.\n",
    "infer_model_id, infer_model_version = \"tensorflow-ic-imagenet-mobilenet-v2-100-224-classification-4\", \"*\"\n",
    "endpoint_name = name_from_base(f\"slf-{infer_model_id}\")\n",
    "\n",
    "inference_instance_type = \"ml.m5.xlarge\"\n",
    "\n",
    "sagemaker_session = Session()\n",
    "aws_role = sagemaker_session.get_caller_identity_arn()\n",
    "aws_region = boto3.Session().region_name\n",
    "bucket = sagemaker_session.default_bucket()"
   ]
  },
  {
   "cell_type": "code",
   "execution_count": 10,
   "id": "0d73b9a4-7b96-40ca-8d93-be3750a44f58",
   "metadata": {
    "tags": []
   },
   "outputs": [],
   "source": [
    "# Here, we are retrieving the URIs to all the default Docker images, training scripts, and pretrained models\n",
    "# that are provided by Jumpstart\n",
    "# Note we are just retrieving links to these things. They will be assembled later in the Estimator, Model, or Predictor\n",
    "\n",
    "# Retrieve the inference docker container uri.\n",
    "deploy_image_uri = image_uris.retrieve(\n",
    "    region=None,\n",
    "    framework=None,\n",
    "    image_scope=\"inference\",\n",
    "    model_id=infer_model_id,\n",
    "    model_version=infer_model_version,\n",
    "    instance_type=inference_instance_type,\n",
    ")\n",
    "# Retrieve the inference script uri.\n",
    "deploy_source_uri = script_uris.retrieve(\n",
    "    model_id=infer_model_id, model_version=infer_model_version, script_scope=\"inference\"\n",
    ")\n",
    "\n",
    "# Assemble the URI to the model we have trained for slf\n",
    "input_bucket = bucket\n",
    "input_prefix = \"slf-classifier-training/output/slf-tensorflow-ic-imagenet-mobilenet-v2-2023-01-25-03-06-14-286/output\" # Not sure how to autogen\n",
    "input_model_name = \"model.tar.gz\"\n",
    "base_model_uri = f\"s3://{input_bucket}/{input_prefix}/{input_model_name}\"\n",
    "\n",
    "\n",
    "# Create the SageMaker model instance. Note that we need to pass Predictor class when we deploy model through Model class,\n",
    "# for being able to run inference through the sagemaker API.\n",
    "model = Model(\n",
    "    image_uri=deploy_image_uri,\n",
    "    source_dir=deploy_source_uri,\n",
    "    model_data=base_model_uri,\n",
    "    entry_point=\"inference.py\",\n",
    "    role=aws_role,\n",
    "    predictor_cls=Predictor,\n",
    "    name=endpoint_name,\n",
    ")\n"
   ]
  },
  {
   "cell_type": "code",
   "execution_count": 11,
   "id": "f4776df9-98b1-496d-9ef0-fb541903e4ba",
   "metadata": {
    "tags": []
   },
   "outputs": [
    {
     "name": "stdout",
     "output_type": "stream",
     "text": [
      "----!"
     ]
    }
   ],
   "source": [
    "# deploy the Model.\n",
    "model_predictor = model.deploy(\n",
    "    initial_instance_count=1,\n",
    "    instance_type=inference_instance_type,\n",
    "    endpoint_name=endpoint_name,\n",
    ")"
   ]
  },
  {
   "cell_type": "code",
   "execution_count": null,
   "id": "4f468570-3184-46ff-8685-eeb693064c52",
   "metadata": {},
   "outputs": [],
   "source": []
  },
  {
   "cell_type": "code",
   "execution_count": 20,
   "id": "08f9b133-6c76-4cc0-8a9f-42224b2e8451",
   "metadata": {
    "tags": []
   },
   "outputs": [],
   "source": [
    "s3_bucket = f\"lantern-rd-east2\"\n",
    "\n",
    "\n",
    "def download_from_s3(images):\n",
    "    for filename, image_key in images.items():\n",
    "        boto3.client(\"s3\").download_file(s3_bucket, f\"{image_key}\", filename)\n",
    "\n",
    "\n",
    "slf_images = {\n",
    "    \"test1.jpg\": \"slf/0.jpg\",\n",
    "    \"test2.jpg\": \"slf/347.jpg\",\n",
    "}\n",
    "download_from_s3(slf_images)\n",
    "\n",
    "notSlf_images = {\n",
    "    \"test11.jpg\": \"not-slf/0.jpg\",\n",
    "    \"test12.jpg\": \"not-slf/347.jpg\",\n",
    "}\n",
    "download_from_s3(notSlf_images)\n",
    "\n",
    "images = [slf_images, notSlf_images]"
   ]
  },
  {
   "cell_type": "code",
   "execution_count": 23,
   "id": "1b8b88ce-6322-4536-8aaf-6a55e3cbe0be",
   "metadata": {
    "tags": []
   },
   "outputs": [
    {
     "data": {
      "text/html": [
       "<img src=test1.jpg alt=slf/0.jpg align=\"left\" style=\"width: 250px;\"/><figcaption>Image Name: test1.jpg</figcaption><figcaption>Predicted Label: slf</figcaption>"
      ],
      "text/plain": [
       "<IPython.core.display.HTML object>"
      ]
     },
     "metadata": {},
     "output_type": "display_data"
    },
    {
     "data": {
      "text/html": [
       "<img src=test2.jpg alt=slf/347.jpg align=\"left\" style=\"width: 250px;\"/><figcaption>Image Name: test2.jpg</figcaption><figcaption>Predicted Label: slf</figcaption>"
      ],
      "text/plain": [
       "<IPython.core.display.HTML object>"
      ]
     },
     "metadata": {},
     "output_type": "display_data"
    },
    {
     "data": {
      "text/html": [
       "<img src=test11.jpg alt=not-slf/0.jpg align=\"left\" style=\"width: 250px;\"/><figcaption>Image Name: test11.jpg</figcaption><figcaption>Predicted Label: not-slf</figcaption>"
      ],
      "text/plain": [
       "<IPython.core.display.HTML object>"
      ]
     },
     "metadata": {},
     "output_type": "display_data"
    },
    {
     "data": {
      "text/html": [
       "<img src=test12.jpg alt=not-slf/347.jpg align=\"left\" style=\"width: 250px;\"/><figcaption>Image Name: test12.jpg</figcaption><figcaption>Predicted Label: not-slf</figcaption>"
      ],
      "text/plain": [
       "<IPython.core.display.HTML object>"
      ]
     },
     "metadata": {},
     "output_type": "display_data"
    }
   ],
   "source": [
    "from IPython.core.display import HTML\n",
    "import json\n",
    "\n",
    "for testSet in images:\n",
    "    for image_filename in testSet.keys():\n",
    "        with open(image_filename, \"rb\") as file:\n",
    "            img = file.read()\n",
    "        query_response = model_predictor.predict(\n",
    "            img, {\"ContentType\": \"application/x-image\", \"Accept\": \"application/json;verbose\"}\n",
    "        )\n",
    "        model_predictions = json.loads(query_response)\n",
    "        predicted_label = model_predictions[\"predicted_label\"]\n",
    "        display(\n",
    "            HTML(\n",
    "                f'<img src={image_filename} alt={testSet[image_filename]} align=\"left\" style=\"width: 250px;\"/>'\n",
    "                f\"<figcaption>Image Name: {image_filename}</figcaption>\"\n",
    "                f\"<figcaption>Predicted Label: {predicted_label}</figcaption>\"\n",
    "            )\n",
    "        )"
   ]
  },
  {
   "cell_type": "code",
   "execution_count": 25,
   "id": "e252fbc1-608b-486f-95ed-0bdbf9f7dbb4",
   "metadata": {
    "tags": []
   },
   "outputs": [],
   "source": [
    "# Delete the SageMaker endpoint and the attached resources\n",
    "model_predictor.delete_model()\n",
    "model_predictor.delete_endpoint()"
   ]
  },
  {
   "cell_type": "code",
   "execution_count": null,
   "id": "59b91907-75fe-40f0-b7ec-29235a3ff62c",
   "metadata": {},
   "outputs": [],
   "source": []
  }
 ],
 "metadata": {
  "kernelspec": {
   "display_name": "Python 3 (Data Science)",
   "language": "python",
   "name": "python3__SAGEMAKER_INTERNAL__arn:aws:sagemaker:us-east-2:429704687514:image/datascience-1.0"
  },
  "language_info": {
   "codemirror_mode": {
    "name": "ipython",
    "version": 3
   },
   "file_extension": ".py",
   "mimetype": "text/x-python",
   "name": "python",
   "nbconvert_exporter": "python",
   "pygments_lexer": "ipython3",
   "version": "3.7.10"
  }
 },
 "nbformat": 4,
 "nbformat_minor": 5
}
