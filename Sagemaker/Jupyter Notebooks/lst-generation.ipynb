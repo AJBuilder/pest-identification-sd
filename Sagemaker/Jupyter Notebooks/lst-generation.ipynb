{
 "cells": [
  {
   "cell_type": "code",
   "execution_count": null,
   "id": "7a9d939e-cdc2-47cc-8c8b-75af6ea903fe",
   "metadata": {
    "tags": []
   },
   "outputs": [],
   "source": [
    "import os\n",
    "from pathlib import Path\n",
    "import boto3\n",
    "\n",
    "def get_all_s3_objects(s3, **base_kwargs):\n",
    "    continuation_token = None\n",
    "    contents = []\n",
    "    while True:\n",
    "        list_kwargs = dict(MaxKeys=1000, **base_kwargs)\n",
    "        if continuation_token:\n",
    "            list_kwargs['ContinuationToken'] = continuation_token\n",
    "        response = s3.list_objects_v2(**list_kwargs)\n",
    "        contents += (response.get('Contents', []))\n",
    "        if not response.get('IsTruncated'):  # At the end of the list?\n",
    "            break\n",
    "        continuation_token = response.get('NextContinuationToken')\n",
    "    return contents"
   ]
  },
  {
   "cell_type": "code",
   "execution_count": null,
   "id": "a406ad0e-1d27-40d8-82c8-acf70a181489",
   "metadata": {
    "tags": []
   },
   "outputs": [],
   "source": [
    "s3_client = boto3.client(\"s3\")\n",
    "bucket_name = \"lantern-rd-east2\"\n",
    "slfFiles = get_all_s3_objects(s3_client, Bucket=bucket_name, Prefix=\"slf\")\n",
    "notSlfFiles = get_all_s3_objects(s3_client, Bucket=bucket_name, Prefix=\"not-slf\")"
   ]
  },
  {
   "cell_type": "code",
   "execution_count": 71,
   "id": "ec57d47b-0847-4a34-93fc-b693176fc995",
   "metadata": {
    "tags": []
   },
   "outputs": [
    {
     "name": "stdout",
     "output_type": "stream",
     "text": [
      "1339\n",
      "2812\n"
     ]
    }
   ],
   "source": [
    "print(len(slfFiles))\n",
    "print(len(notSlfFiles))"
   ]
  },
  {
   "cell_type": "code",
   "execution_count": null,
   "id": "99e33bd7-672f-4d27-9299-99fbc00134f9",
   "metadata": {
    "scrolled": true,
    "tags": []
   },
   "outputs": [],
   "source": [
    "for file in slfFiles:\n",
    "    print(f\"File_name: {file['Key']}, size: {file['Size']}\")"
   ]
  },
  {
   "cell_type": "code",
   "execution_count": null,
   "id": "deade57f-31cd-42c5-85e5-fab03b3c14bc",
   "metadata": {
    "tags": []
   },
   "outputs": [],
   "source": [
    "fileNum = 0\n",
    "while os.path.exists(\"lst-file%s.lst\" % fileNum):\n",
    "    fileNum += 1\n",
    "\n",
    "output = open(\"lst-file%s.lst\" % fileNum, \"w\")\n",
    "    \n",
    "\n",
    "for i in range(0, len(slfFiles)):\n",
    "    output.write(str(i) + \"\\t1\\t\" + slfFiles[i]['Key'] + '\\n')\n",
    "print(\"Finished slf: \" + str(len(slfFiles)))\n",
    "for i in range(len(slfFiles), len(notSlfFiles)):\n",
    "    output.write(str(i) + \"\\t0\\t\" + notSlfFiles[i]['Key'] + '\\n')\n",
    "print(\"Finished not-slf: \" + str(len(notSlfFiles)))\n",
    "output.close()\n"
   ]
  },
  {
   "cell_type": "code",
   "execution_count": null,
   "id": "346f806c-ba6d-497b-983d-b6d106129850",
   "metadata": {
    "scrolled": true,
    "tags": []
   },
   "outputs": [],
   "source": [
    "missing = 0\n",
    "for i in range(0, len(slfFiles)):\n",
    "    match = True\n",
    "    for j in range(0, len(slfFiles)):\n",
    "        if i == int(slfFiles[j]['Key'][4:-4]):\n",
    "            #print(slfFiles[j]['Key'] + \" matches with \" + str(i))\n",
    "            match = True\n",
    "            break\n",
    "        else: match = False\n",
    "    if not match:    \n",
    "        print(\"Couldn't find \" + str(i))\n",
    "        missing += 1\n",
    "print(\"Couldn't find \" + str(missing) + \" file\")\n",
    "        "
   ]
  },
  {
   "cell_type": "code",
   "execution_count": null,
   "id": "abba8d4d-065f-4fb5-bae9-78083924fc11",
   "metadata": {},
   "outputs": [],
   "source": []
  }
 ],
 "metadata": {
  "instance_type": "ml.t3.medium",
  "kernelspec": {
   "display_name": "Python 3 (Data Science)",
   "language": "python",
   "name": "python3__SAGEMAKER_INTERNAL__arn:aws:sagemaker:us-east-2:429704687514:image/datascience-1.0"
  },
  "language_info": {
   "codemirror_mode": {
    "name": "ipython",
    "version": 3
   },
   "file_extension": ".py",
   "mimetype": "text/x-python",
   "name": "python",
   "nbconvert_exporter": "python",
   "pygments_lexer": "ipython3",
   "version": "3.7.10"
  }
 },
 "nbformat": 4,
 "nbformat_minor": 5
}
