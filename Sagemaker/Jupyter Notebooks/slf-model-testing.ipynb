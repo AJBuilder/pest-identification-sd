{
 "cells": [
  {
   "cell_type": "code",
   "execution_count": null,
   "id": "af6c60b7-c531-45aa-ac75-7221123c40af",
   "metadata": {},
   "outputs": [],
   "source": [
    "import numpy as np\n",
    "def predict(data, rows=1000):\n",
    "    split_array = np.array_split(data, int(data.shape[0] / float(rows) + 1))\n",
    "    predictions = ''\n",
    "    for array in split_array:\n",
    "        predictions = ','.join([predictions, xgb_predictor.predict(array).decode('utf-8')])\n",
    "    return np.fromstring(predictions[1:], sep=',')"
   ]
  },
  {
   "cell_type": "code",
   "execution_count": null,
   "id": "976505ac-ad9d-424e-9563-3a21e27b0f30",
   "metadata": {},
   "outputs": [],
   "source": [
    "#The above block is to predict each image in the test set once the endpoint is up and running"
   ]
  },
  {
   "cell_type": "code",
   "execution_count": null,
   "id": "7376de5c-2d2d-483c-99c3-36ac9ef49493",
   "metadata": {},
   "outputs": [],
   "source": [
    "import matplotlib.pyplot as plt\n",
    "\n",
    "predictions=predict(test.to_numpy()[:,1:])\n",
    "plt.hist(predictions)\n",
    "plt.show()"
   ]
  },
  {
   "cell_type": "code",
   "execution_count": null,
   "id": "fb17aebd-fe86-4fea-a38f-5eb4d6b213a9",
   "metadata": {},
   "outputs": [],
   "source": [
    "#The above code plots a histogram of the predictions"
   ]
  },
  {
   "cell_type": "code",
   "execution_count": null,
   "id": "7940a787-6f38-484f-9592-b00e4c3f6fdb",
   "metadata": {},
   "outputs": [],
   "source": [
    "import sklearn\n",
    "\n",
    "cutoff=0.5\n",
    "print(sklearn.metrics.confusion_matrix(test.iloc[:, 0], np.where(predictions > cutoff, 1, 0)))\n",
    "print(sklearn.metrics.classification_report(test.iloc[:, 0], np.where(predictions > cutoff, 1, 0)))"
   ]
  },
  {
   "cell_type": "code",
   "execution_count": null,
   "id": "e187fc0e-c399-491f-aa21-cb2d0b16421f",
   "metadata": {},
   "outputs": [],
   "source": [
    "#The above code reurns a confusion matrix based on data"
   ]
  },
  {
   "cell_type": "code",
   "execution_count": null,
   "id": "6b3be4a8-00eb-4e52-97a3-f69fc1238c95",
   "metadata": {},
   "outputs": [],
   "source": [
    "import matplotlib.pyplot as plt\n",
    "\n",
    "cutoffs = np.arange(0.01, 1, 0.01)\n",
    "log_loss = []\n",
    "for c in cutoffs:\n",
    "    log_loss.append(\n",
    "        sklearn.metrics.log_loss(test.iloc[:, 0], np.where(predictions > c, 1, 0))\n",
    "    )\n",
    "\n",
    "plt.figure(figsize=(15,10))\n",
    "plt.plot(cutoffs, log_loss)\n",
    "plt.xlabel(\"Cutoff\")\n",
    "plt.ylabel(\"Log loss\")\n",
    "plt.show()"
   ]
  },
  {
   "cell_type": "code",
   "execution_count": null,
   "id": "0624dbf5-0008-4899-b78d-776471254599",
   "metadata": {},
   "outputs": [],
   "source": [
    "#To find the best cutoff with the given test set, compute the log loss function of the logistic regression. The log loss function is defined as \n",
    "#the negative log-likelihood of a logistic model that returns prediction probabilities for its ground truth labels. The following \n",
    "# example code numerically and iteratively calculates the log loss values (-(y*log(p)+(1-y)log(1-p)), where\n",
    "#y is the true label and p is a probability estimate of the corresponding test sample. It returns a log loss versus cutoff graph."
   ]
  },
  {
   "cell_type": "code",
   "execution_count": null,
   "id": "81785e3c-4635-48e3-8594-deb17d66be1e",
   "metadata": {},
   "outputs": [],
   "source": [
    "print(\n",
    "    'Log loss is minimized at a cutoff of ', cutoffs[np.argmin(log_loss)], \n",
    "    ', and the log loss value at the minimum is ', np.min(log_loss)\n",
    ")"
   ]
  },
  {
   "cell_type": "code",
   "execution_count": null,
   "id": "f2738203-6343-4285-94e3-40c8f4312326",
   "metadata": {},
   "outputs": [],
   "source": [
    "#Just finds the minimum points of the generated curve"
   ]
  }
 ],
 "metadata": {
  "instance_type": "ml.t3.medium",
  "kernelspec": {
   "display_name": "Python 3 (Data Science)",
   "language": "python",
   "name": "python3__SAGEMAKER_INTERNAL__arn:aws:sagemaker:us-east-2:429704687514:image/datascience-1.0"
  },
  "language_info": {
   "codemirror_mode": {
    "name": "ipython",
    "version": 3
   },
   "file_extension": ".py",
   "mimetype": "text/x-python",
   "name": "python",
   "nbconvert_exporter": "python",
   "pygments_lexer": "ipython3",
   "version": "3.7.10"
  }
 },
 "nbformat": 4,
 "nbformat_minor": 5
}
