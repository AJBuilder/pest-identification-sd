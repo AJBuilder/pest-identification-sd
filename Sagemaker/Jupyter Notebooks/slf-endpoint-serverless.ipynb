{
 "cells": [
  {
   "cell_type": "markdown",
   "id": "58766a0f-0f23-4612-aba4-e1365f2bcec9",
   "metadata": {},
   "source": [
    "# Deploying a Serverless Endpoint\n",
    "***\n",
    "\n",
    "This notebook is for  creating a serverless endpoint and deploying a model created used with slf-classifier. Both are done with the same command.\n",
    "\n",
    "Code is also included to test the endpoint."
   ]
  },
  {
   "cell_type": "code",
   "execution_count": 9,
   "id": "384582a9-cd16-4544-b957-defaf268d24d",
   "metadata": {
    "tags": []
   },
   "outputs": [],
   "source": [
    "import sagemaker, boto3\n",
    "from sagemaker import image_uris, model_uris, script_uris\n",
    "from sagemaker.model import Model\n",
    "from sagemaker.predictor import Predictor\n",
    "from sagemaker.utils import name_from_base\n",
    "from sagemaker.session import Session\n",
    "\n",
    "\n",
    "\n",
    "# model_version=\"*\" fetches the latest version of the model.\n",
    "infer_model_id, infer_model_version = \"tensorflow-ic-imagenet-mobilenet-v2-100-224-classification-4\", \"*\"\n",
    "endpoint_name = name_from_base(f\"slf-serverless\")\n",
    "\n",
    "inference_instance_type = \"ml.m5.xlarge\"\n",
    "\n",
    "sagemaker_session = Session()\n",
    "aws_role = sagemaker_session.get_caller_identity_arn()\n",
    "aws_region = boto3.Session().region_name\n",
    "bucket = sagemaker_session.default_bucket()"
   ]
  },
  {
   "cell_type": "code",
   "execution_count": 11,
   "id": "d2aa36d2-a885-45fb-92d2-7d80c72dbf02",
   "metadata": {
    "tags": []
   },
   "outputs": [],
   "source": [
    "# Retrieve the inference docker container uri.\n",
    "deploy_image_uri = image_uris.retrieve(\n",
    "    region=None,\n",
    "    framework=None,\n",
    "    image_scope=\"inference\",\n",
    "    model_id=infer_model_id,\n",
    "    model_version=infer_model_version,\n",
    "    instance_type=inference_instance_type,\n",
    ")\n",
    "# Retrieve the inference script uri.\n",
    "deploy_source_uri = script_uris.retrieve(\n",
    "    model_id=infer_model_id, model_version=infer_model_version, script_scope=\"inference\"\n",
    ")\n",
    "\n",
    "# Assemble the URI to the model we have trained for slf\n",
    "input_bucket = bucket\n",
    "input_prefix = \"slf-classifier-training/output/slf-tensorflow-ic-imagenet-mobilenet-v2-2023-01-25-03-06-14-286/output\" # Not sure how to autogen\n",
    "input_model_name = \"model.tar.gz\"\n",
    "base_model_uri = f\"s3://{input_bucket}/{input_prefix}/{input_model_name}\"\n",
    "\n",
    "\n",
    "# Create the SageMaker model instance. Note that we need to pass Predictor class when we deploy model through Model class,\n",
    "# for being able to run inference through the sagemaker API.\n",
    "model = Model(\n",
    "    image_uri=deploy_image_uri,\n",
    "    source_dir=deploy_source_uri,\n",
    "    model_data=base_model_uri,\n",
    "    entry_point=\"inference.py\",\n",
    "    role=aws_role,\n",
    "    predictor_cls=Predictor,\n",
    "    name=endpoint_name + \"-model\",\n",
    ")"
   ]
  },
  {
   "cell_type": "code",
   "execution_count": 12,
   "id": "353d7e8d-419e-4110-856e-2adb8b8f58ba",
   "metadata": {},
   "outputs": [],
   "source": [
    "from sagemaker.serverless import ServerlessInferenceConfig\n",
    "serverless_config = ServerlessInferenceConfig(memory_size_in_mb=1024, max_concurrency=3)"
   ]
  },
  {
   "cell_type": "code",
   "execution_count": 13,
   "id": "4a5325d8-14fb-4df2-beb5-9f988ad328ab",
   "metadata": {
    "tags": []
   },
   "outputs": [
    {
     "name": "stdout",
     "output_type": "stream",
     "text": [
      "---------!"
     ]
    }
   ],
   "source": [
    "# deploy the Model.\n",
    "model_predictor = model.deploy(\n",
    "    initial_instance_count=1,\n",
    "    instance_type=inference_instance_type,\n",
    "    endpoint_name=endpoint_name,\n",
    "    serverless_inference_config=serverless_config\n",
    ")"
   ]
  },
  {
   "cell_type": "markdown",
   "id": "8883daca-f63f-4bf1-b797-826b5e28d006",
   "metadata": {},
   "source": [
    "# Testing the Endpoint\n",
    "***"
   ]
  },
  {
   "cell_type": "code",
   "execution_count": 10,
   "id": "bfd2c414-97a2-4cbb-8996-4e3b4131fd6e",
   "metadata": {
    "tags": []
   },
   "outputs": [],
   "source": [
    "s3_bucket = f\"lantern-rd-east2\"\n",
    "\n",
    "\n",
    "def download_from_s3(images):\n",
    "    for filename, image_key in images.items():\n",
    "        boto3.client(\"s3\").download_file(s3_bucket, f\"{image_key}\", filename)\n",
    "\n",
    "\n",
    "slf_images = {\n",
    "    \"test1.jpg\": \"slf/0.jpg\",\n",
    "    \"test2.jpg\": \"slf/347.jpg\",\n",
    "}\n",
    "download_from_s3(slf_images)\n",
    "\n",
    "notSlf_images = {\n",
    "    \"test11.jpg\": \"not-slf/0.jpg\",\n",
    "    \"test12.jpg\": \"not-slf/347.jpg\",\n",
    "}\n",
    "\n",
    "\n",
    "images = [slf_images, notSlf_images]"
   ]
  },
  {
   "cell_type": "code",
   "execution_count": null,
   "id": "7fd288dc-8b92-432a-a1e0-25162f63ae33",
   "metadata": {},
   "outputs": [],
   "source": [
    "download_from_s3(notSlf_images)"
   ]
  },
  {
   "cell_type": "code",
   "execution_count": 11,
   "id": "3382bd2a-fd71-4aab-a516-644da17cad45",
   "metadata": {},
   "outputs": [
    {
     "ename": "NameError",
     "evalue": "name 'model_predictor' is not defined",
     "output_type": "error",
     "traceback": [
      "\u001b[0;31m---------------------------------------------------------------------------\u001b[0m",
      "\u001b[0;31mNameError\u001b[0m                                 Traceback (most recent call last)",
      "\u001b[0;32m<ipython-input-11-97b5ed797e1f>\u001b[0m in \u001b[0;36m<module>\u001b[0;34m\u001b[0m\n\u001b[1;32m      6\u001b[0m         \u001b[0;32mwith\u001b[0m \u001b[0mopen\u001b[0m\u001b[0;34m(\u001b[0m\u001b[0mimage_filename\u001b[0m\u001b[0;34m,\u001b[0m \u001b[0;34m\"rb\"\u001b[0m\u001b[0;34m)\u001b[0m \u001b[0;32mas\u001b[0m \u001b[0mfile\u001b[0m\u001b[0;34m:\u001b[0m\u001b[0;34m\u001b[0m\u001b[0;34m\u001b[0m\u001b[0m\n\u001b[1;32m      7\u001b[0m             \u001b[0mimg\u001b[0m \u001b[0;34m=\u001b[0m \u001b[0mfile\u001b[0m\u001b[0;34m.\u001b[0m\u001b[0mread\u001b[0m\u001b[0;34m(\u001b[0m\u001b[0;34m)\u001b[0m\u001b[0;34m\u001b[0m\u001b[0;34m\u001b[0m\u001b[0m\n\u001b[0;32m----> 8\u001b[0;31m         query_response = model_predictor.predict(\n\u001b[0m\u001b[1;32m      9\u001b[0m             \u001b[0mimg\u001b[0m\u001b[0;34m,\u001b[0m \u001b[0;34m{\u001b[0m\u001b[0;34m\"ContentType\"\u001b[0m\u001b[0;34m:\u001b[0m \u001b[0;34m\"application/x-image\"\u001b[0m\u001b[0;34m,\u001b[0m \u001b[0;34m\"Accept\"\u001b[0m\u001b[0;34m:\u001b[0m \u001b[0;34m\"application/json;verbose\"\u001b[0m\u001b[0;34m}\u001b[0m\u001b[0;34m\u001b[0m\u001b[0;34m\u001b[0m\u001b[0m\n\u001b[1;32m     10\u001b[0m         )\n",
      "\u001b[0;31mNameError\u001b[0m: name 'model_predictor' is not defined"
     ]
    }
   ],
   "source": [
    "from IPython.core.display import HTML\n",
    "import json\n",
    "\n",
    "for testSet in images:\n",
    "    for image_filename in testSet.keys():\n",
    "        with open(image_filename, \"rb\") as file:\n",
    "            img = file.read()\n",
    "        query_response = model_predictor.predict(\n",
    "            img, {\"ContentType\": \"application/x-image\", \"Accept\": \"application/json;verbose\"}\n",
    "        )\n",
    "        model_predictions = json.loads(query_response)\n",
    "        predicted_label = model_predictions[\"predicted_label\"]\n",
    "        display(\n",
    "            HTML(\n",
    "                f'<img src={image_filename} alt={testSet[image_filename]} align=\"left\" style=\"width: 250px;\"/>'\n",
    "                f\"<figcaption>Image Name: {image_filename}</figcaption>\"\n",
    "                f\"<figcaption>Predicted Label: {predicted_label}</figcaption>\"\n",
    "            )\n",
    "        )"
   ]
  },
  {
   "cell_type": "code",
   "execution_count": null,
   "id": "e76769f3-c548-4d74-a4a4-abf83e8f8277",
   "metadata": {},
   "outputs": [],
   "source": []
  }
 ],
 "metadata": {
  "instance_type": "ml.t3.medium",
  "kernelspec": {
   "display_name": "Python 3 (Data Science)",
   "language": "python",
   "name": "python3__SAGEMAKER_INTERNAL__arn:aws:sagemaker:us-east-2:429704687514:image/datascience-1.0"
  },
  "language_info": {
   "codemirror_mode": {
    "name": "ipython",
    "version": 3
   },
   "file_extension": ".py",
   "mimetype": "text/x-python",
   "name": "python",
   "nbconvert_exporter": "python",
   "pygments_lexer": "ipython3",
   "version": "3.7.10"
  }
 },
 "nbformat": 4,
 "nbformat_minor": 5
}
