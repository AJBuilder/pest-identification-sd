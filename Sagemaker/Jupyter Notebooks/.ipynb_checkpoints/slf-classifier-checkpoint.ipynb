{
 "cells": [
  {
   "cell_type": "code",
   "execution_count": null,
   "id": "9533fd1e-d4ca-4370-9a78-d203662e911d",
   "metadata": {},
   "outputs": [],
   "source": [
    "parser = argparse.ArgumentParser()\n",
    "\n",
    "    # Hyperparameters are described here\n",
    "    parser.add_argument('--num_round', type=int)\n",
    "    parser.add_argument('--max_depth', type=int, default=5)\n",
    "    parser.add_argument('--eta', type=float, default=0.2)\n",
    "    parser.add_argument('--objective', type=str, default='reg:squarederror')\n",
    "\n",
    "    # SageMaker specific arguments. Defaults are set in the environment variables.\n",
    "    parser.add_argument('--model_dir', type=str, default=os.environ.get('SM_MODEL_DIR'))\n",
    "    parser.add_argument('--train', type=str, default=os.environ['SM_CHANNEL_TRAIN'])\n",
    "    parser.add_argument('--validation', type=str, default=os.environ['SM_CHANNEL_VALIDATION'])\n",
    "\n",
    "    args = parser.parse_args()\n",
    "\n",
    "    train_hp = {\n",
    "        'max_depth': args.max_depth,\n",
    "        'eta': args.eta,\n",
    "        'gamma': args.gamma,\n",
    "        'min_child_weight': args.min_child_weight,\n",
    "        'subsample': args.subsample,\n",
    "        'silent': args.silent,\n",
    "        'objective': args.objective\n",
    "    }"
   ]
  },
  {
   "cell_type": "code",
   "execution_count": null,
   "id": "cbe8b96c-bd13-4b1b-8945-a5750201cded",
   "metadata": {},
   "outputs": [],
   "source": [
    "dtrain = xgb.DMatrix(args.train)\n",
    "    dval = xgb.DMatrix(args.validation)\n",
    "    watchlist = [(dtrain, 'train'), (dval, 'validation')] if dval is not None else [(dtrain, 'train')]\n",
    "\n",
    "    callbacks = []\n",
    "    prev_checkpoint, n_iterations_prev_run = add_checkpointing(callbacks)\n",
    "    # If checkpoint is found then we reduce num_boost_round by previously run number of iterations\n"
   ]
  },
  {
   "cell_type": "code",
   "execution_count": null,
   "id": "5c277cc6-fbd7-4375-8b9e-03d9a7a4edf9",
   "metadata": {},
   "outputs": [],
   "source": [
    "bst = xgb.train(\n",
    "        params=train_hp,\n",
    "        dtrain=dtrain,\n",
    "        evals=watchlist,\n",
    "        num_boost_round=(args.num_round - n_iterations_prev_run),\n",
    "        xgb_model=prev_checkpoint,\n",
    "        callbacks=callbacks\n",
    "    )"
   ]
  },
  {
   "cell_type": "code",
   "execution_count": null,
   "id": "bee87a6c-fff9-4d18-b501-f0a2313657b7",
   "metadata": {},
   "outputs": [],
   "source": [
    "    # Save the model to the location specified by ``model_dir``\n",
    "    model_location = args.model_dir + '/xgboost-model'\n",
    "    pkl.dump(bst, open(model_location, 'wb'))\n",
    "    logging.info(\"Stored trained model at {}\".format(model_location))"
   ]
  }
 ],
 "metadata": {
  "instance_type": "ml.t3.medium",
  "kernelspec": {
   "display_name": "Python 3 (Data Science)",
   "language": "python",
   "name": "python3__SAGEMAKER_INTERNAL__arn:aws:sagemaker:us-east-2:429704687514:image/datascience-1.0"
  },
  "language_info": {
   "codemirror_mode": {
    "name": "ipython",
    "version": 3
   },
   "file_extension": ".py",
   "mimetype": "text/x-python",
   "name": "python",
   "nbconvert_exporter": "python",
   "pygments_lexer": "ipython3",
   "version": "3.7.10"
  }
 },
 "nbformat": 4,
 "nbformat_minor": 5
}
