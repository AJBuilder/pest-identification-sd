{
 "cells": [
  {
   "cell_type": "markdown",
   "id": "ccb202d8-562d-4b87-9870-635ca503e1d5",
   "metadata": {},
   "source": [
    "# Running Inference\n",
    "***\n",
    "\n",
    "This notebook is for running inference on an already existing endpoint.\n",
    "\n",
    "To Do\n",
    "- Endpoint name is hardcoded atm. Allow user input."
   ]
  },
  {
   "cell_type": "code",
   "execution_count": 3,
   "id": "867ac6a8-dbbf-41c3-8509-cac46592413e",
   "metadata": {},
   "outputs": [],
   "source": [
    "import sagemaker, boto3\n",
    "from sagemaker import image_uris, model_uris, script_uris\n",
    "from sagemaker.predictor import Predictor\n",
    "from sagemaker.utils import name_from_base\n",
    "from sagemaker.session import Session\n",
    "\n",
    "\n",
    "\n",
    "# model_version=\"*\" fetches the latest version of the model.\n",
    "infer_model_id, infer_model_version = \"tensorflow-ic-imagenet-mobilenet-v2-100-224-classification-4\", \"*\"\n",
    "endpoint_name = f\"slf-serverless-2023-02-09-16-36-20-855\"\n",
    "\n",
    "inference_instance_type = \"ml.m5.xlarge\"\n",
    "\n",
    "sagemaker_session = Session()\n",
    "aws_role = sagemaker_session.get_caller_identity_arn()\n",
    "aws_region = boto3.Session().region_name\n",
    "bucket = sagemaker_session.default_bucket()"
   ]
  },
  {
   "cell_type": "code",
   "execution_count": 4,
   "id": "942a9b0f-568f-4478-83df-08c8f3f42e1f",
   "metadata": {
    "tags": []
   },
   "outputs": [],
   "source": [
    "model_predictor = Predictor(\n",
    "    endpoint_name=endpoint_name,\n",
    "    sagemaker_session=sagemaker_session\n",
    "    )\n",
    "    "
   ]
  },
  {
   "cell_type": "code",
   "execution_count": 6,
   "id": "361410fa-db36-4e0d-b0e3-7b351390f690",
   "metadata": {
    "tags": []
   },
   "outputs": [],
   "source": [
    "s3_bucket = f\"lantern-rd-test-pictures\"\n",
    "\n",
    "\n",
    "def download_from_s3(images):\n",
    "    for filename, image_key in images.items():\n",
    "        boto3.client(\"s3\").download_file(s3_bucket, f\"{image_key}\", filename)\n",
    "\n",
    "\n",
    "slf_images = {\n",
    "    \"test1.jpg\": \"slf-positive/1134.jpg\",\n",
    "    \"test2.jpg\": \"slf-positive/990.jpg\",\n",
    "}\n",
    "download_from_s3(slf_images)\n",
    "\n",
    "notSlf_images = {\n",
    "    \"test11.jpg\": \"not-slf/1032.jpg\",\n",
    "    \"test12.jpg\": \"not-slf/1018.jpg\",\n",
    "}\n",
    "\n",
    "\n",
    "images = [slf_images, notSlf_images]"
   ]
  },
  {
   "cell_type": "code",
   "execution_count": 7,
   "id": "50577e08-22f3-4610-8870-f6e4654882df",
   "metadata": {},
   "outputs": [],
   "source": [
    "download_from_s3(notSlf_images)"
   ]
  },
  {
   "cell_type": "code",
   "execution_count": null,
   "id": "75727c0a-570b-49c9-9ea3-28d5f751c680",
   "metadata": {
    "tags": []
   },
   "outputs": [],
   "source": [
    "from IPython.core.display import HTML\n",
    "import json\n",
    "\n",
    "for testSet in images:\n",
    "    for image_filename in testSet.keys():\n",
    "        with open(image_filename, \"rb\") as file:\n",
    "            img = file.read()\n",
    "        query_response = model_predictor.predict(\n",
    "            img, {\"ContentType\": \"application/x-image\", \"Accept\": \"application/json;verbose\"}\n",
    "        )\n",
    "        model_predictions = json.loads(query_response)\n",
    "        predicted_label = model_predictions[\"predicted_label\"]\n",
    "        display(\n",
    "            HTML(\n",
    "                f'<img src={image_filename} alt={testSet[image_filename]} align=\"left\" style=\"width: 250px;\"/>'\n",
    "                f\"<figcaption>Image Name: {image_filename}</figcaption>\"\n",
    "                f\"<figcaption>Predicted Label: {predicted_label}</figcaption>\"\n",
    "            )\n",
    "        )"
   ]
  },
  {
   "cell_type": "code",
   "execution_count": null,
   "id": "e7d179f5-efea-4557-927e-19ceef3fcd2f",
   "metadata": {},
   "outputs": [],
   "source": []
  }
 ],
 "metadata": {
  "instance_type": "ml.t3.medium",
  "kernelspec": {
   "display_name": "Python 3 (Data Science)",
   "language": "python",
   "name": "python3__SAGEMAKER_INTERNAL__arn:aws:sagemaker:us-east-2:429704687514:image/datascience-1.0"
  },
  "language_info": {
   "codemirror_mode": {
    "name": "ipython",
    "version": 3
   },
   "file_extension": ".py",
   "mimetype": "text/x-python",
   "name": "python",
   "nbconvert_exporter": "python",
   "pygments_lexer": "ipython3",
   "version": "3.7.10"
  }
 },
 "nbformat": 4,
 "nbformat_minor": 5
}
